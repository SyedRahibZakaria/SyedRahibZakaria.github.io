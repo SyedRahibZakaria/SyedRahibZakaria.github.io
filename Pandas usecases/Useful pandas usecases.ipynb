{
 "cells": [
  {
   "cell_type": "markdown",
   "id": "bde27936",
   "metadata": {},
   "source": [
    "# Working with date time"
   ]
  },
  {
   "cell_type": "code",
   "execution_count": 1,
   "id": "36791d40",
   "metadata": {},
   "outputs": [],
   "source": [
    "import pandas as pd\n",
    "df = pd.read_csv('http://bit.ly/uforeports')"
   ]
  },
  {
   "cell_type": "code",
   "execution_count": 2,
   "id": "ecd19c58",
   "metadata": {},
   "outputs": [
    {
     "data": {
      "text/html": [
       "<div>\n",
       "<style scoped>\n",
       "    .dataframe tbody tr th:only-of-type {\n",
       "        vertical-align: middle;\n",
       "    }\n",
       "\n",
       "    .dataframe tbody tr th {\n",
       "        vertical-align: top;\n",
       "    }\n",
       "\n",
       "    .dataframe thead th {\n",
       "        text-align: right;\n",
       "    }\n",
       "</style>\n",
       "<table border=\"1\" class=\"dataframe\">\n",
       "  <thead>\n",
       "    <tr style=\"text-align: right;\">\n",
       "      <th></th>\n",
       "      <th>City</th>\n",
       "      <th>Colors Reported</th>\n",
       "      <th>Shape Reported</th>\n",
       "      <th>State</th>\n",
       "      <th>Time</th>\n",
       "    </tr>\n",
       "  </thead>\n",
       "  <tbody>\n",
       "    <tr>\n",
       "      <th>0</th>\n",
       "      <td>Ithaca</td>\n",
       "      <td>NaN</td>\n",
       "      <td>TRIANGLE</td>\n",
       "      <td>NY</td>\n",
       "      <td>6/1/1930 22:00</td>\n",
       "    </tr>\n",
       "    <tr>\n",
       "      <th>1</th>\n",
       "      <td>Willingboro</td>\n",
       "      <td>NaN</td>\n",
       "      <td>OTHER</td>\n",
       "      <td>NJ</td>\n",
       "      <td>6/30/1930 20:00</td>\n",
       "    </tr>\n",
       "    <tr>\n",
       "      <th>2</th>\n",
       "      <td>Holyoke</td>\n",
       "      <td>NaN</td>\n",
       "      <td>OVAL</td>\n",
       "      <td>CO</td>\n",
       "      <td>2/15/1931 14:00</td>\n",
       "    </tr>\n",
       "    <tr>\n",
       "      <th>3</th>\n",
       "      <td>Abilene</td>\n",
       "      <td>NaN</td>\n",
       "      <td>DISK</td>\n",
       "      <td>KS</td>\n",
       "      <td>6/1/1931 13:00</td>\n",
       "    </tr>\n",
       "    <tr>\n",
       "      <th>4</th>\n",
       "      <td>New York Worlds Fair</td>\n",
       "      <td>NaN</td>\n",
       "      <td>LIGHT</td>\n",
       "      <td>NY</td>\n",
       "      <td>4/18/1933 19:00</td>\n",
       "    </tr>\n",
       "  </tbody>\n",
       "</table>\n",
       "</div>"
      ],
      "text/plain": [
       "                   City Colors Reported Shape Reported State             Time\n",
       "0                Ithaca             NaN       TRIANGLE    NY   6/1/1930 22:00\n",
       "1           Willingboro             NaN          OTHER    NJ  6/30/1930 20:00\n",
       "2               Holyoke             NaN           OVAL    CO  2/15/1931 14:00\n",
       "3               Abilene             NaN           DISK    KS   6/1/1931 13:00\n",
       "4  New York Worlds Fair             NaN          LIGHT    NY  4/18/1933 19:00"
      ]
     },
     "execution_count": 2,
     "metadata": {},
     "output_type": "execute_result"
    }
   ],
   "source": [
    "df.head()"
   ]
  },
  {
   "cell_type": "code",
   "execution_count": 3,
   "id": "308326eb",
   "metadata": {},
   "outputs": [
    {
     "data": {
      "text/plain": [
       "City               object\n",
       "Colors Reported    object\n",
       "Shape Reported     object\n",
       "State              object\n",
       "Time               object\n",
       "dtype: object"
      ]
     },
     "execution_count": 3,
     "metadata": {},
     "output_type": "execute_result"
    }
   ],
   "source": [
    "df.dtypes"
   ]
  },
  {
   "cell_type": "code",
   "execution_count": 4,
   "id": "5ab3bea4",
   "metadata": {},
   "outputs": [],
   "source": [
    "df['Time'] = pd.to_datetime(df.Time)"
   ]
  },
  {
   "cell_type": "code",
   "execution_count": 5,
   "id": "9e00892b",
   "metadata": {},
   "outputs": [],
   "source": [
    "ts = pd.to_datetime('1/1/1999')"
   ]
  },
  {
   "cell_type": "code",
   "execution_count": 6,
   "id": "989278b5",
   "metadata": {},
   "outputs": [
    {
     "data": {
      "text/html": [
       "<div>\n",
       "<style scoped>\n",
       "    .dataframe tbody tr th:only-of-type {\n",
       "        vertical-align: middle;\n",
       "    }\n",
       "\n",
       "    .dataframe tbody tr th {\n",
       "        vertical-align: top;\n",
       "    }\n",
       "\n",
       "    .dataframe thead th {\n",
       "        text-align: right;\n",
       "    }\n",
       "</style>\n",
       "<table border=\"1\" class=\"dataframe\">\n",
       "  <thead>\n",
       "    <tr style=\"text-align: right;\">\n",
       "      <th></th>\n",
       "      <th>City</th>\n",
       "      <th>Colors Reported</th>\n",
       "      <th>Shape Reported</th>\n",
       "      <th>State</th>\n",
       "      <th>Time</th>\n",
       "    </tr>\n",
       "  </thead>\n",
       "  <tbody>\n",
       "    <tr>\n",
       "      <th>12832</th>\n",
       "      <td>Loma Rica</td>\n",
       "      <td>NaN</td>\n",
       "      <td>LIGHT</td>\n",
       "      <td>CA</td>\n",
       "      <td>1999-01-01 02:30:00</td>\n",
       "    </tr>\n",
       "    <tr>\n",
       "      <th>12833</th>\n",
       "      <td>Bauxite</td>\n",
       "      <td>NaN</td>\n",
       "      <td>NaN</td>\n",
       "      <td>AR</td>\n",
       "      <td>1999-01-01 03:00:00</td>\n",
       "    </tr>\n",
       "    <tr>\n",
       "      <th>12834</th>\n",
       "      <td>Florence</td>\n",
       "      <td>NaN</td>\n",
       "      <td>CYLINDER</td>\n",
       "      <td>SC</td>\n",
       "      <td>1999-01-01 14:00:00</td>\n",
       "    </tr>\n",
       "    <tr>\n",
       "      <th>12835</th>\n",
       "      <td>Lake Henshaw</td>\n",
       "      <td>NaN</td>\n",
       "      <td>CIGAR</td>\n",
       "      <td>CA</td>\n",
       "      <td>1999-01-01 15:00:00</td>\n",
       "    </tr>\n",
       "    <tr>\n",
       "      <th>12836</th>\n",
       "      <td>Wilmington Island</td>\n",
       "      <td>NaN</td>\n",
       "      <td>LIGHT</td>\n",
       "      <td>GA</td>\n",
       "      <td>1999-01-01 17:15:00</td>\n",
       "    </tr>\n",
       "    <tr>\n",
       "      <th>...</th>\n",
       "      <td>...</td>\n",
       "      <td>...</td>\n",
       "      <td>...</td>\n",
       "      <td>...</td>\n",
       "      <td>...</td>\n",
       "    </tr>\n",
       "    <tr>\n",
       "      <th>18236</th>\n",
       "      <td>Grant Park</td>\n",
       "      <td>NaN</td>\n",
       "      <td>TRIANGLE</td>\n",
       "      <td>IL</td>\n",
       "      <td>2000-12-31 23:00:00</td>\n",
       "    </tr>\n",
       "    <tr>\n",
       "      <th>18237</th>\n",
       "      <td>Spirit Lake</td>\n",
       "      <td>NaN</td>\n",
       "      <td>DISK</td>\n",
       "      <td>IA</td>\n",
       "      <td>2000-12-31 23:00:00</td>\n",
       "    </tr>\n",
       "    <tr>\n",
       "      <th>18238</th>\n",
       "      <td>Eagle River</td>\n",
       "      <td>NaN</td>\n",
       "      <td>NaN</td>\n",
       "      <td>WI</td>\n",
       "      <td>2000-12-31 23:45:00</td>\n",
       "    </tr>\n",
       "    <tr>\n",
       "      <th>18239</th>\n",
       "      <td>Eagle River</td>\n",
       "      <td>RED</td>\n",
       "      <td>LIGHT</td>\n",
       "      <td>WI</td>\n",
       "      <td>2000-12-31 23:45:00</td>\n",
       "    </tr>\n",
       "    <tr>\n",
       "      <th>18240</th>\n",
       "      <td>Ybor</td>\n",
       "      <td>NaN</td>\n",
       "      <td>OVAL</td>\n",
       "      <td>FL</td>\n",
       "      <td>2000-12-31 23:59:00</td>\n",
       "    </tr>\n",
       "  </tbody>\n",
       "</table>\n",
       "<p>5409 rows × 5 columns</p>\n",
       "</div>"
      ],
      "text/plain": [
       "                    City Colors Reported Shape Reported State  \\\n",
       "12832          Loma Rica             NaN          LIGHT    CA   \n",
       "12833            Bauxite             NaN            NaN    AR   \n",
       "12834           Florence             NaN       CYLINDER    SC   \n",
       "12835       Lake Henshaw             NaN          CIGAR    CA   \n",
       "12836  Wilmington Island             NaN          LIGHT    GA   \n",
       "...                  ...             ...            ...   ...   \n",
       "18236         Grant Park             NaN       TRIANGLE    IL   \n",
       "18237        Spirit Lake             NaN           DISK    IA   \n",
       "18238        Eagle River             NaN            NaN    WI   \n",
       "18239        Eagle River             RED          LIGHT    WI   \n",
       "18240               Ybor             NaN           OVAL    FL   \n",
       "\n",
       "                     Time  \n",
       "12832 1999-01-01 02:30:00  \n",
       "12833 1999-01-01 03:00:00  \n",
       "12834 1999-01-01 14:00:00  \n",
       "12835 1999-01-01 15:00:00  \n",
       "12836 1999-01-01 17:15:00  \n",
       "...                   ...  \n",
       "18236 2000-12-31 23:00:00  \n",
       "18237 2000-12-31 23:00:00  \n",
       "18238 2000-12-31 23:45:00  \n",
       "18239 2000-12-31 23:45:00  \n",
       "18240 2000-12-31 23:59:00  \n",
       "\n",
       "[5409 rows x 5 columns]"
      ]
     },
     "execution_count": 6,
     "metadata": {},
     "output_type": "execute_result"
    }
   ],
   "source": [
    "df.loc[df.Time >= ts, :]"
   ]
  },
  {
   "cell_type": "code",
   "execution_count": 7,
   "id": "915713b2",
   "metadata": {},
   "outputs": [
    {
     "data": {
      "text/plain": [
       "Timedelta('25781 days 01:59:00')"
      ]
     },
     "execution_count": 7,
     "metadata": {},
     "output_type": "execute_result"
    }
   ],
   "source": [
    "df.Time.max() - df.Time.min()"
   ]
  },
  {
   "cell_type": "code",
   "execution_count": 8,
   "id": "debb5724",
   "metadata": {},
   "outputs": [
    {
     "data": {
      "text/plain": [
       "25781"
      ]
     },
     "execution_count": 8,
     "metadata": {},
     "output_type": "execute_result"
    }
   ],
   "source": [
    "(df.Time.max() - df.Time.min()).days"
   ]
  },
  {
   "cell_type": "code",
   "execution_count": 9,
   "id": "4c57585e",
   "metadata": {},
   "outputs": [
    {
     "data": {
      "text/plain": [
       "70.63287671232877"
      ]
     },
     "execution_count": 9,
     "metadata": {},
     "output_type": "execute_result"
    }
   ],
   "source": [
    "(df.Time.max() - df.Time.min()).days / 365"
   ]
  },
  {
   "cell_type": "markdown",
   "id": "832e3418",
   "metadata": {},
   "source": [
    "Plot number of UFOs seen per year"
   ]
  },
  {
   "cell_type": "code",
   "execution_count": 10,
   "id": "b0462ac3",
   "metadata": {},
   "outputs": [],
   "source": [
    "import matplotlib.pyplot as plt\n",
    "%matplotlib inline"
   ]
  },
  {
   "cell_type": "code",
   "execution_count": 11,
   "id": "7fd07a4b",
   "metadata": {},
   "outputs": [],
   "source": [
    "df['Time'] = df.Time.dt.year"
   ]
  },
  {
   "cell_type": "code",
   "execution_count": 12,
   "id": "c639d69c",
   "metadata": {},
   "outputs": [
    {
     "data": {
      "text/html": [
       "<div>\n",
       "<style scoped>\n",
       "    .dataframe tbody tr th:only-of-type {\n",
       "        vertical-align: middle;\n",
       "    }\n",
       "\n",
       "    .dataframe tbody tr th {\n",
       "        vertical-align: top;\n",
       "    }\n",
       "\n",
       "    .dataframe thead th {\n",
       "        text-align: right;\n",
       "    }\n",
       "</style>\n",
       "<table border=\"1\" class=\"dataframe\">\n",
       "  <thead>\n",
       "    <tr style=\"text-align: right;\">\n",
       "      <th></th>\n",
       "      <th>City</th>\n",
       "      <th>Colors Reported</th>\n",
       "      <th>Shape Reported</th>\n",
       "      <th>State</th>\n",
       "      <th>Time</th>\n",
       "    </tr>\n",
       "  </thead>\n",
       "  <tbody>\n",
       "    <tr>\n",
       "      <th>0</th>\n",
       "      <td>Ithaca</td>\n",
       "      <td>NaN</td>\n",
       "      <td>TRIANGLE</td>\n",
       "      <td>NY</td>\n",
       "      <td>1930</td>\n",
       "    </tr>\n",
       "    <tr>\n",
       "      <th>1</th>\n",
       "      <td>Willingboro</td>\n",
       "      <td>NaN</td>\n",
       "      <td>OTHER</td>\n",
       "      <td>NJ</td>\n",
       "      <td>1930</td>\n",
       "    </tr>\n",
       "    <tr>\n",
       "      <th>2</th>\n",
       "      <td>Holyoke</td>\n",
       "      <td>NaN</td>\n",
       "      <td>OVAL</td>\n",
       "      <td>CO</td>\n",
       "      <td>1931</td>\n",
       "    </tr>\n",
       "    <tr>\n",
       "      <th>3</th>\n",
       "      <td>Abilene</td>\n",
       "      <td>NaN</td>\n",
       "      <td>DISK</td>\n",
       "      <td>KS</td>\n",
       "      <td>1931</td>\n",
       "    </tr>\n",
       "    <tr>\n",
       "      <th>4</th>\n",
       "      <td>New York Worlds Fair</td>\n",
       "      <td>NaN</td>\n",
       "      <td>LIGHT</td>\n",
       "      <td>NY</td>\n",
       "      <td>1933</td>\n",
       "    </tr>\n",
       "  </tbody>\n",
       "</table>\n",
       "</div>"
      ],
      "text/plain": [
       "                   City Colors Reported Shape Reported State  Time\n",
       "0                Ithaca             NaN       TRIANGLE    NY  1930\n",
       "1           Willingboro             NaN          OTHER    NJ  1930\n",
       "2               Holyoke             NaN           OVAL    CO  1931\n",
       "3               Abilene             NaN           DISK    KS  1931\n",
       "4  New York Worlds Fair             NaN          LIGHT    NY  1933"
      ]
     },
     "execution_count": 12,
     "metadata": {},
     "output_type": "execute_result"
    }
   ],
   "source": [
    "df.head()"
   ]
  },
  {
   "cell_type": "code",
   "execution_count": 13,
   "id": "3764f248",
   "metadata": {},
   "outputs": [
    {
     "data": {
      "text/html": [
       "<div>\n",
       "<style scoped>\n",
       "    .dataframe tbody tr th:only-of-type {\n",
       "        vertical-align: middle;\n",
       "    }\n",
       "\n",
       "    .dataframe tbody tr th {\n",
       "        vertical-align: top;\n",
       "    }\n",
       "\n",
       "    .dataframe thead th {\n",
       "        text-align: right;\n",
       "    }\n",
       "</style>\n",
       "<table border=\"1\" class=\"dataframe\">\n",
       "  <thead>\n",
       "    <tr style=\"text-align: right;\">\n",
       "      <th></th>\n",
       "      <th>Time</th>\n",
       "      <th>City</th>\n",
       "      <th>Colors Reported</th>\n",
       "      <th>Shape Reported</th>\n",
       "      <th>State</th>\n",
       "    </tr>\n",
       "  </thead>\n",
       "  <tbody>\n",
       "    <tr>\n",
       "      <th>0</th>\n",
       "      <td>1930</td>\n",
       "      <td>2</td>\n",
       "      <td>0</td>\n",
       "      <td>2</td>\n",
       "      <td>2</td>\n",
       "    </tr>\n",
       "    <tr>\n",
       "      <th>1</th>\n",
       "      <td>1931</td>\n",
       "      <td>2</td>\n",
       "      <td>0</td>\n",
       "      <td>2</td>\n",
       "      <td>2</td>\n",
       "    </tr>\n",
       "    <tr>\n",
       "      <th>2</th>\n",
       "      <td>1933</td>\n",
       "      <td>1</td>\n",
       "      <td>0</td>\n",
       "      <td>1</td>\n",
       "      <td>1</td>\n",
       "    </tr>\n",
       "    <tr>\n",
       "      <th>3</th>\n",
       "      <td>1934</td>\n",
       "      <td>1</td>\n",
       "      <td>0</td>\n",
       "      <td>1</td>\n",
       "      <td>1</td>\n",
       "    </tr>\n",
       "    <tr>\n",
       "      <th>4</th>\n",
       "      <td>1935</td>\n",
       "      <td>1</td>\n",
       "      <td>0</td>\n",
       "      <td>1</td>\n",
       "      <td>1</td>\n",
       "    </tr>\n",
       "    <tr>\n",
       "      <th>...</th>\n",
       "      <td>...</td>\n",
       "      <td>...</td>\n",
       "      <td>...</td>\n",
       "      <td>...</td>\n",
       "      <td>...</td>\n",
       "    </tr>\n",
       "    <tr>\n",
       "      <th>63</th>\n",
       "      <td>1996</td>\n",
       "      <td>848</td>\n",
       "      <td>155</td>\n",
       "      <td>510</td>\n",
       "      <td>851</td>\n",
       "    </tr>\n",
       "    <tr>\n",
       "      <th>64</th>\n",
       "      <td>1997</td>\n",
       "      <td>1236</td>\n",
       "      <td>226</td>\n",
       "      <td>1138</td>\n",
       "      <td>1237</td>\n",
       "    </tr>\n",
       "    <tr>\n",
       "      <th>65</th>\n",
       "      <td>1998</td>\n",
       "      <td>1741</td>\n",
       "      <td>391</td>\n",
       "      <td>1643</td>\n",
       "      <td>1743</td>\n",
       "    </tr>\n",
       "    <tr>\n",
       "      <th>66</th>\n",
       "      <td>1999</td>\n",
       "      <td>2774</td>\n",
       "      <td>551</td>\n",
       "      <td>2511</td>\n",
       "      <td>2774</td>\n",
       "    </tr>\n",
       "    <tr>\n",
       "      <th>67</th>\n",
       "      <td>2000</td>\n",
       "      <td>2631</td>\n",
       "      <td>507</td>\n",
       "      <td>2396</td>\n",
       "      <td>2635</td>\n",
       "    </tr>\n",
       "  </tbody>\n",
       "</table>\n",
       "<p>68 rows × 5 columns</p>\n",
       "</div>"
      ],
      "text/plain": [
       "    Time  City  Colors Reported  Shape Reported  State\n",
       "0   1930     2                0               2      2\n",
       "1   1931     2                0               2      2\n",
       "2   1933     1                0               1      1\n",
       "3   1934     1                0               1      1\n",
       "4   1935     1                0               1      1\n",
       "..   ...   ...              ...             ...    ...\n",
       "63  1996   848              155             510    851\n",
       "64  1997  1236              226            1138   1237\n",
       "65  1998  1741              391            1643   1743\n",
       "66  1999  2774              551            2511   2774\n",
       "67  2000  2631              507            2396   2635\n",
       "\n",
       "[68 rows x 5 columns]"
      ]
     },
     "execution_count": 13,
     "metadata": {},
     "output_type": "execute_result"
    }
   ],
   "source": [
    "df.groupby(['Time']).count().reset_index()"
   ]
  },
  {
   "cell_type": "code",
   "execution_count": 14,
   "id": "ada4a8d8",
   "metadata": {},
   "outputs": [],
   "source": [
    "#df.Time.value_counts().sort_values().reset_index()"
   ]
  },
  {
   "cell_type": "code",
   "execution_count": null,
   "id": "a831a151",
   "metadata": {},
   "outputs": [
    {
     "data": {
      "text/plain": [
       "<AxesSubplot:>"
      ]
     },
     "execution_count": 15,
     "metadata": {},
     "output_type": "execute_result"
    }
   ],
   "source": [
    "df.Time.value_counts().sort_index().plot() # takes index as x axis"
   ]
  },
  {
   "cell_type": "markdown",
   "id": "c1d383a3",
   "metadata": {},
   "source": [
    "# Find and remove duplicates"
   ]
  },
  {
   "cell_type": "code",
   "execution_count": null,
   "id": "db023d5a",
   "metadata": {},
   "outputs": [],
   "source": [
    "# movie reviewer dataset\n",
    "user_cols=['user_id', 'age', 'gender', 'occupation', 'zip_code']\n",
    "df = pd.read_csv('http://bit.ly/movieusers', sep='|', header=None, names=user_cols, na_filter=False, index_col='user_id') \n",
    "#na_filter = False will drop rows with Na values"
   ]
  },
  {
   "cell_type": "code",
   "execution_count": null,
   "id": "d570f13d",
   "metadata": {},
   "outputs": [],
   "source": [
    "df.shape"
   ]
  },
  {
   "cell_type": "code",
   "execution_count": null,
   "id": "dda2065d",
   "metadata": {},
   "outputs": [],
   "source": [
    "df.zip_code.duplicated()   # Returns False if unique and True if same value appeared before"
   ]
  },
  {
   "cell_type": "code",
   "execution_count": null,
   "id": "dd756693",
   "metadata": {},
   "outputs": [],
   "source": [
    "df[df['zip_code'].duplicated()==False].shape  # Drop duplicated values for a particular column"
   ]
  },
  {
   "cell_type": "code",
   "execution_count": null,
   "id": "284c8ef0",
   "metadata": {},
   "outputs": [],
   "source": [
    "df[df.duplicated()==False].shape  # If entire row as same value as row appeared before"
   ]
  },
  {
   "cell_type": "code",
   "execution_count": null,
   "id": "f9427fc7",
   "metadata": {},
   "outputs": [],
   "source": [
    "# How many duplicate zip codes   ---> 148 duplicated zip codes  True -> 1 False -> 0\n",
    "df.zip_code.duplicated().sum()"
   ]
  },
  {
   "cell_type": "code",
   "execution_count": null,
   "id": "3a06adca",
   "metadata": {},
   "outputs": [],
   "source": [
    "df.duplicated()  # will return True if entire row is identical to previous row"
   ]
  },
  {
   "cell_type": "code",
   "execution_count": null,
   "id": "9009efde",
   "metadata": {},
   "outputs": [],
   "source": [
    "# Return duplicate rows    Return when value is True\n",
    "df.loc[df.duplicated(), :]"
   ]
  },
  {
   "cell_type": "code",
   "execution_count": null,
   "id": "7c95fcb7",
   "metadata": {},
   "outputs": [],
   "source": [
    "df.loc[df.duplicated(keep='first'), :] \n",
    "# mark duplicates as True except the first occurence\n",
    "# The first occurence gets kept and all the others in the dataframe gets identified as True"
   ]
  },
  {
   "cell_type": "code",
   "execution_count": null,
   "id": "d589cf62",
   "metadata": {},
   "outputs": [],
   "source": [
    "df.loc[df.duplicated(keep='last'), :] "
   ]
  },
  {
   "cell_type": "code",
   "execution_count": null,
   "id": "6edca219",
   "metadata": {},
   "outputs": [],
   "source": [
    "df.loc[df.duplicated(keep=False), :]  # Mark all duplicates as True even the first occurence"
   ]
  },
  {
   "cell_type": "code",
   "execution_count": null,
   "id": "bdf4aef0",
   "metadata": {},
   "outputs": [],
   "source": [
    "df.drop_duplicates(keep='first') #keep='first' <- default setting"
   ]
  },
  {
   "cell_type": "markdown",
   "id": "c7428a3e",
   "metadata": {},
   "source": [
    "### What if you only wanted to consider certain columns when identifying duplicates?\n",
    "#### Example: age+zip code is unique identifier"
   ]
  },
  {
   "cell_type": "code",
   "execution_count": null,
   "id": "c3ad9e0b",
   "metadata": {},
   "outputs": [],
   "source": [
    "df.duplicated(subset=['age','zip_code']).sum()"
   ]
  },
  {
   "cell_type": "code",
   "execution_count": null,
   "id": "c1880676",
   "metadata": {},
   "outputs": [],
   "source": [
    "df.drop_duplicates(subset=['age','zip_code'],inplace=True)"
   ]
  },
  {
   "cell_type": "markdown",
   "id": "44168112",
   "metadata": {},
   "source": [
    "# How to handle missing values?"
   ]
  },
  {
   "cell_type": "code",
   "execution_count": null,
   "id": "3fe224ee",
   "metadata": {},
   "outputs": [],
   "source": [
    "df = pd.read_csv('http://bit.ly/uforeports')"
   ]
  },
  {
   "cell_type": "code",
   "execution_count": null,
   "id": "f4a2d1d4",
   "metadata": {},
   "outputs": [],
   "source": [
    "df.tail()"
   ]
  },
  {
   "cell_type": "code",
   "execution_count": null,
   "id": "828c29cf",
   "metadata": {},
   "outputs": [],
   "source": [
    "# isnull() dataframe method\n",
    "df.isnull().tail()"
   ]
  },
  {
   "cell_type": "code",
   "execution_count": null,
   "id": "e25cb7c4",
   "metadata": {},
   "outputs": [],
   "source": [
    "df.notnull().tail()"
   ]
  },
  {
   "cell_type": "code",
   "execution_count": null,
   "id": "41d4dce2",
   "metadata": {},
   "outputs": [],
   "source": [
    "df.isnull().sum()  \n",
    "#axis=0 do sum accross the rows means sum values for each column "
   ]
  },
  {
   "cell_type": "code",
   "execution_count": null,
   "id": "6942206d",
   "metadata": {},
   "outputs": [],
   "source": [
    "df[df.City.isnull()].head()"
   ]
  },
  {
   "cell_type": "code",
   "execution_count": null,
   "id": "24bb2a53",
   "metadata": {},
   "outputs": [],
   "source": [
    "df.isna().sum()"
   ]
  },
  {
   "cell_type": "code",
   "execution_count": null,
   "id": "9a143cdc",
   "metadata": {},
   "outputs": [],
   "source": [
    "df.isnull().sum()"
   ]
  },
  {
   "cell_type": "markdown",
   "id": "4445ad85",
   "metadata": {},
   "source": [
    "#### Handling missing values\n",
    "1. Drop missing values"
   ]
  },
  {
   "cell_type": "code",
   "execution_count": null,
   "id": "336c4486",
   "metadata": {},
   "outputs": [],
   "source": [
    "df.shape"
   ]
  },
  {
   "cell_type": "code",
   "execution_count": null,
   "id": "80e53c5d",
   "metadata": {},
   "outputs": [],
   "source": [
    "df.dropna(how='any').shape\n",
    "# how='any' drop row if any values in the columns is missing"
   ]
  },
  {
   "cell_type": "code",
   "execution_count": null,
   "id": "6db4c062",
   "metadata": {},
   "outputs": [],
   "source": [
    "df.dropna(how='all').shape\n",
    "# Will drop rows if all the columns has NaN values"
   ]
  },
  {
   "cell_type": "code",
   "execution_count": null,
   "id": "684fa1fe",
   "metadata": {},
   "outputs": [],
   "source": [
    "df.dropna(subset=['City', 'Shape Reported'], how='any').shape\n",
    "# Drop rows if any of City or Shape Reported columns has NaN values"
   ]
  },
  {
   "cell_type": "code",
   "execution_count": null,
   "id": "59129204",
   "metadata": {},
   "outputs": [],
   "source": [
    "df['Shape Reported'].value_counts(dropna=False).sort_values(ascending=False) \n",
    "# by default missing values are excluded "
   ]
  },
  {
   "cell_type": "markdown",
   "id": "876cb18a",
   "metadata": {},
   "source": [
    "#### Handling missing values with fillna()"
   ]
  },
  {
   "cell_type": "code",
   "execution_count": null,
   "id": "71dd332f",
   "metadata": {},
   "outputs": [],
   "source": [
    "df['Shape Reported'].fillna(value='VARIOUS', inplace=True)"
   ]
  },
  {
   "cell_type": "code",
   "execution_count": null,
   "id": "0bde9859",
   "metadata": {},
   "outputs": [],
   "source": [
    "df['Shape Reported'].value_counts(dropna=False).sort_values(ascending=False) "
   ]
  },
  {
   "cell_type": "markdown",
   "id": "b94f023f",
   "metadata": {},
   "source": [
    "#### Grabbing rows where any columns have NaN values"
   ]
  },
  {
   "cell_type": "code",
   "execution_count": null,
   "id": "95bb5762",
   "metadata": {},
   "outputs": [],
   "source": [
    "df.isna().any(axis=1)"
   ]
  },
  {
   "cell_type": "code",
   "execution_count": null,
   "id": "38d95b03",
   "metadata": {},
   "outputs": [],
   "source": [
    "df.loc[df.isna().any(axis=1), :]"
   ]
  },
  {
   "cell_type": "markdown",
   "id": "1901b7d5",
   "metadata": {},
   "source": [
    "## How to apply multiple filter criteria to a pandas DataFrame"
   ]
  },
  {
   "cell_type": "code",
   "execution_count": null,
   "id": "55cada81",
   "metadata": {},
   "outputs": [],
   "source": [
    "df = pd.read_csv('http://bit.ly/imdbratings')\n",
    "df.head()"
   ]
  },
  {
   "cell_type": "code",
   "execution_count": null,
   "id": "75e22991",
   "metadata": {},
   "outputs": [],
   "source": [
    "df[df['duration']>=200].head()"
   ]
  },
  {
   "cell_type": "code",
   "execution_count": null,
   "id": "1b355207",
   "metadata": {},
   "outputs": [],
   "source": [
    "df[(df['duration']>=200) & (df['genre']=='Crime') & (df['star_rating'] >= 9.0)]"
   ]
  },
  {
   "cell_type": "code",
   "execution_count": null,
   "id": "31399b75",
   "metadata": {},
   "outputs": [],
   "source": [
    "df[(df['duration']>=200) | (df['genre']=='Crime') | (df['star_rating'] >= 9.0)].head()"
   ]
  },
  {
   "cell_type": "code",
   "execution_count": null,
   "id": "fd40fec6",
   "metadata": {},
   "outputs": [],
   "source": [
    "df[df['genre'].isin(['Crime', 'Action'])]"
   ]
  },
  {
   "cell_type": "markdown",
   "id": "1a3f65f3",
   "metadata": {},
   "source": [
    "## Apply, Map and Applymap"
   ]
  },
  {
   "cell_type": "code",
   "execution_count": null,
   "id": "5f0c65ca",
   "metadata": {},
   "outputs": [],
   "source": [
    "import pandas as pd\n",
    "df = pd.read_csv('http://bit.ly/kaggletrain')\n",
    "df.head()"
   ]
  },
  {
   "cell_type": "markdown",
   "id": "8cfdbec7",
   "metadata": {},
   "source": [
    "Map - Is a series method. It allows you to map an existing value of a series to       a different set of values E.g: transforming sex male, female to 1 and 0"
   ]
  },
  {
   "cell_type": "code",
   "execution_count": null,
   "id": "dadeb19f",
   "metadata": {},
   "outputs": [],
   "source": [
    "df['Sex_num'] = df.Sex.map({'male':1, 'female':0})"
   ]
  },
  {
   "cell_type": "code",
   "execution_count": null,
   "id": "af8afecb",
   "metadata": {},
   "outputs": [],
   "source": [
    "df[['Sex','Sex_num']].head()"
   ]
  },
  {
   "cell_type": "code",
   "execution_count": null,
   "id": "2019aab5",
   "metadata": {},
   "outputs": [],
   "source": [
    "#df.loc[0:4, ['Sex','Sex_num']]"
   ]
  },
  {
   "cell_type": "markdown",
   "id": "13a95b37",
   "metadata": {},
   "source": [
    "apply - It is both a Series method and dataframe method. It applies a function         to each element in a series"
   ]
  },
  {
   "cell_type": "markdown",
   "id": "8349b7bf",
   "metadata": {},
   "source": [
    "#### apply as a series method"
   ]
  },
  {
   "cell_type": "code",
   "execution_count": null,
   "id": "e2a1bdc8",
   "metadata": {},
   "outputs": [],
   "source": [
    "# calculate length of each of the strings in Name column\n",
    "#df['name_len'] = df.Name.apply(lambda x: len(x)) <--- gives same result\n",
    "df['name_len'] = df.Name.apply(len) # applies len(one_row)"
   ]
  },
  {
   "cell_type": "code",
   "execution_count": null,
   "id": "c0923ed9",
   "metadata": {},
   "outputs": [],
   "source": [
    "#df['name_len']"
   ]
  },
  {
   "cell_type": "code",
   "execution_count": null,
   "id": "11138f70",
   "metadata": {},
   "outputs": [],
   "source": [
    "# using numpy ceil to roundup values for fare coulmn\n",
    "import numpy as np\n",
    "df['Fare_ceil'] = df.Fare.apply(np.ceil)"
   ]
  },
  {
   "cell_type": "code",
   "execution_count": null,
   "id": "c0b87cff",
   "metadata": {},
   "outputs": [],
   "source": [
    "df[['Fare','Fare_ceil']].head()"
   ]
  },
  {
   "cell_type": "code",
   "execution_count": null,
   "id": "278aab70",
   "metadata": {},
   "outputs": [],
   "source": [
    "df.Name.str.split(',').head()"
   ]
  },
  {
   "cell_type": "code",
   "execution_count": null,
   "id": "32f98442",
   "metadata": {},
   "outputs": [],
   "source": [
    "# We only need the surname, e.g: Braund\n",
    "def extr_surname(x):\n",
    "    x=x.split(',')\n",
    "    return x[0]\n",
    "\n",
    "df['Surname'] = df.Name.apply(extr_surname)"
   ]
  },
  {
   "cell_type": "code",
   "execution_count": null,
   "id": "8738fa43",
   "metadata": {},
   "outputs": [],
   "source": [
    "df['Surname'].head()"
   ]
  },
  {
   "cell_type": "code",
   "execution_count": null,
   "id": "024b273e",
   "metadata": {},
   "outputs": [],
   "source": [
    "# Alternative\n",
    "\n",
    "def get_element(x,position=0):\n",
    "    return x[position]\n",
    "\n",
    "df['Surname'] = df.Name.str.split(',').apply(get_element, position=0)"
   ]
  },
  {
   "cell_type": "code",
   "execution_count": null,
   "id": "6322edb0",
   "metadata": {},
   "outputs": [],
   "source": [
    "df['Surname'].head()"
   ]
  },
  {
   "cell_type": "code",
   "execution_count": null,
   "id": "c1cf7b67",
   "metadata": {},
   "outputs": [],
   "source": [
    "df['Surname'] = df.Name.str.split(',').apply(lambda x: x[0])"
   ]
  },
  {
   "cell_type": "code",
   "execution_count": null,
   "id": "40449eb5",
   "metadata": {},
   "outputs": [],
   "source": [
    "df['Surname'].head()"
   ]
  },
  {
   "cell_type": "markdown",
   "id": "38a5c8f5",
   "metadata": {},
   "source": [
    "#### apply as DataFrame method\n",
    "\n",
    "It applies a function along either axis of a dataframe"
   ]
  },
  {
   "cell_type": "code",
   "execution_count": null,
   "id": "49b5dfec",
   "metadata": {},
   "outputs": [],
   "source": [
    "df = pd.read_csv('http://bit.ly/drinksbycountry')\n",
    "df.head()"
   ]
  },
  {
   "cell_type": "code",
   "execution_count": null,
   "id": "e4036190",
   "metadata": {},
   "outputs": [],
   "source": [
    "#df.loc[:,['beer_servings','wine_servings','country']]"
   ]
  },
  {
   "cell_type": "code",
   "execution_count": null,
   "id": "e6ebbeed",
   "metadata": {},
   "outputs": [],
   "source": [
    "df.loc[:,'beer_servings':'wine_servings']"
   ]
  },
  {
   "cell_type": "code",
   "execution_count": null,
   "id": "6eefc0b6",
   "metadata": {},
   "outputs": [],
   "source": [
    "df.loc[:,'beer_servings':'wine_servings'].apply(max, axis=0) # np.mean"
   ]
  },
  {
   "cell_type": "code",
   "execution_count": null,
   "id": "f53376e6",
   "metadata": {},
   "outputs": [],
   "source": [
    "df.loc[:,'beer_servings':'wine_servings'].apply(max, axis=1)"
   ]
  },
  {
   "cell_type": "code",
   "execution_count": null,
   "id": "ff842359",
   "metadata": {},
   "outputs": [],
   "source": [
    "# Finding which column has the maximum value\n",
    "import numpy as np\n",
    "df.loc[:,'beer_servings':'wine_servings'].apply(np.argmax, axis=1)"
   ]
  },
  {
   "cell_type": "markdown",
   "id": "36eb9218",
   "metadata": {},
   "source": [
    "#### applymap - DataFrame method. \n",
    "Applies function to every element of the dataframe"
   ]
  },
  {
   "cell_type": "code",
   "execution_count": null,
   "id": "7a26b722",
   "metadata": {},
   "outputs": [],
   "source": [
    "df.loc[:,'beer_servings':'wine_servings'].applymap(float)"
   ]
  },
  {
   "cell_type": "markdown",
   "id": "6b870753",
   "metadata": {},
   "source": [
    "#### Removing columns from a dataframe"
   ]
  },
  {
   "cell_type": "code",
   "execution_count": null,
   "id": "b7dded22",
   "metadata": {},
   "outputs": [],
   "source": [
    "df = pd.read_csv('http://bit.ly/uforeports')"
   ]
  },
  {
   "cell_type": "code",
   "execution_count": null,
   "id": "bb16f93f",
   "metadata": {},
   "outputs": [],
   "source": [
    "df.head()"
   ]
  },
  {
   "cell_type": "code",
   "execution_count": null,
   "id": "473f3c25",
   "metadata": {},
   "outputs": [],
   "source": [
    "df.drop('Colors Reported', axis=1)"
   ]
  },
  {
   "cell_type": "markdown",
   "id": "e2082391",
   "metadata": {},
   "source": [
    "#### How to sort a dataframe or series"
   ]
  },
  {
   "cell_type": "code",
   "execution_count": null,
   "id": "620b9d4b",
   "metadata": {},
   "outputs": [],
   "source": [
    "df = pd.read_csv('http://bit.ly/imdbratings')"
   ]
  },
  {
   "cell_type": "code",
   "execution_count": null,
   "id": "31037201",
   "metadata": {},
   "outputs": [],
   "source": [
    "df.head()"
   ]
  },
  {
   "cell_type": "code",
   "execution_count": null,
   "id": "39de92d0",
   "metadata": {},
   "outputs": [],
   "source": [
    "# Sorting series\n",
    "df.title.sort_values(ascending=False)"
   ]
  },
  {
   "cell_type": "code",
   "execution_count": null,
   "id": "2bb79744",
   "metadata": {},
   "outputs": [],
   "source": [
    "# Sorting a DataFrame by a series\n",
    "df.sort_values('title')"
   ]
  },
  {
   "cell_type": "code",
   "execution_count": null,
   "id": "16b960d5",
   "metadata": {},
   "outputs": [],
   "source": []
  }
 ],
 "metadata": {
  "kernelspec": {
   "display_name": "Python 3",
   "language": "python",
   "name": "python3"
  },
  "language_info": {
   "codemirror_mode": {
    "name": "ipython",
    "version": 3
   },
   "file_extension": ".py",
   "mimetype": "text/x-python",
   "name": "python",
   "nbconvert_exporter": "python",
   "pygments_lexer": "ipython3",
   "version": "3.8.8"
  }
 },
 "nbformat": 4,
 "nbformat_minor": 5
}
