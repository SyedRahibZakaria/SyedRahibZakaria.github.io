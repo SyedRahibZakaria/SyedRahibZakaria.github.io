{
 "cells": [
  {
   "cell_type": "markdown",
   "id": "d19c2549",
   "metadata": {},
   "source": [
    "#### Transforming data types"
   ]
  },
  {
   "cell_type": "code",
   "execution_count": 1,
   "id": "7866909a",
   "metadata": {},
   "outputs": [],
   "source": [
    "import pandas as pd\n",
    "import numpy as np"
   ]
  },
  {
   "cell_type": "code",
   "execution_count": 2,
   "id": "623fdcb4",
   "metadata": {},
   "outputs": [
    {
     "data": {
      "text/html": [
       "<div>\n",
       "<style scoped>\n",
       "    .dataframe tbody tr th:only-of-type {\n",
       "        vertical-align: middle;\n",
       "    }\n",
       "\n",
       "    .dataframe tbody tr th {\n",
       "        vertical-align: top;\n",
       "    }\n",
       "\n",
       "    .dataframe thead th {\n",
       "        text-align: right;\n",
       "    }\n",
       "</style>\n",
       "<table border=\"1\" class=\"dataframe\">\n",
       "  <thead>\n",
       "    <tr style=\"text-align: right;\">\n",
       "      <th></th>\n",
       "      <th>string_col</th>\n",
       "      <th>int_float</th>\n",
       "      <th>mix_col</th>\n",
       "      <th>missing</th>\n",
       "      <th>money</th>\n",
       "    </tr>\n",
       "  </thead>\n",
       "  <tbody>\n",
       "    <tr>\n",
       "      <th>0</th>\n",
       "      <td>1</td>\n",
       "      <td>1.0</td>\n",
       "      <td>a</td>\n",
       "      <td>1.0</td>\n",
       "      <td>$1,500.00</td>\n",
       "    </tr>\n",
       "    <tr>\n",
       "      <th>1</th>\n",
       "      <td>2</td>\n",
       "      <td>2.0</td>\n",
       "      <td>-2</td>\n",
       "      <td>2.0</td>\n",
       "      <td>$3,436.45</td>\n",
       "    </tr>\n",
       "    <tr>\n",
       "      <th>2</th>\n",
       "      <td>3</td>\n",
       "      <td>3.2</td>\n",
       "      <td>3</td>\n",
       "      <td>3.0</td>\n",
       "      <td>$958.99</td>\n",
       "    </tr>\n",
       "    <tr>\n",
       "      <th>3</th>\n",
       "      <td>4</td>\n",
       "      <td>4.6</td>\n",
       "      <td>4</td>\n",
       "      <td>NaN</td>\n",
       "      <td>$1,198.00</td>\n",
       "    </tr>\n",
       "  </tbody>\n",
       "</table>\n",
       "</div>"
      ],
      "text/plain": [
       "  string_col  int_float mix_col  missing      money\n",
       "0          1        1.0       a      1.0  $1,500.00\n",
       "1          2        2.0      -2      2.0  $3,436.45\n",
       "2          3        3.2       3      3.0    $958.99\n",
       "3          4        4.6       4      NaN  $1,198.00"
      ]
     },
     "execution_count": 2,
     "metadata": {},
     "output_type": "execute_result"
    }
   ],
   "source": [
    "data = {\n",
    "    'string_col':['1','2','3','4'],\n",
    "    'int_float': [1,2,3.2,4.6],\n",
    "    'mix_col': ['a', '-2', 3, 4],\n",
    "    'missing': [1,2,3,np.nan],\n",
    "    'money': ['$1,500.00', '$3,436.45','$958.99', '$1,198.00']\n",
    "}\n",
    "\n",
    "df = pd.DataFrame(data=data)\n",
    "df.head()"
   ]
  },
  {
   "cell_type": "code",
   "execution_count": 3,
   "id": "bc35b880",
   "metadata": {},
   "outputs": [
    {
     "data": {
      "text/plain": [
       "string_col     object\n",
       "int_float     float64\n",
       "mix_col        object\n",
       "missing       float64\n",
       "money          object\n",
       "dtype: object"
      ]
     },
     "execution_count": 3,
     "metadata": {},
     "output_type": "execute_result"
    }
   ],
   "source": [
    "df.dtypes"
   ]
  },
  {
   "cell_type": "code",
   "execution_count": 4,
   "id": "e3a6055d",
   "metadata": {},
   "outputs": [],
   "source": [
    "df['string_col'] = df.string_col.astype(int)"
   ]
  },
  {
   "cell_type": "code",
   "execution_count": 5,
   "id": "d11a223e",
   "metadata": {},
   "outputs": [
    {
     "data": {
      "text/plain": [
       "string_col      int32\n",
       "int_float     float64\n",
       "mix_col        object\n",
       "missing       float64\n",
       "money          object\n",
       "dtype: object"
      ]
     },
     "execution_count": 5,
     "metadata": {},
     "output_type": "execute_result"
    }
   ],
   "source": [
    "df.dtypes"
   ]
  },
  {
   "cell_type": "code",
   "execution_count": 6,
   "id": "a652de14",
   "metadata": {},
   "outputs": [],
   "source": [
    "# roundup to 0 decimal values\n",
    "df['int_float'] = df.int_float.round(0).astype(int) "
   ]
  },
  {
   "cell_type": "code",
   "execution_count": 7,
   "id": "de0bef36",
   "metadata": {},
   "outputs": [
    {
     "data": {
      "text/plain": [
       "string_col      int32\n",
       "int_float       int32\n",
       "mix_col        object\n",
       "missing       float64\n",
       "money          object\n",
       "dtype: object"
      ]
     },
     "execution_count": 7,
     "metadata": {},
     "output_type": "execute_result"
    }
   ],
   "source": [
    "df.dtypes"
   ]
  },
  {
   "cell_type": "code",
   "execution_count": 8,
   "id": "3d5d93e3",
   "metadata": {},
   "outputs": [
    {
     "data": {
      "text/html": [
       "<div>\n",
       "<style scoped>\n",
       "    .dataframe tbody tr th:only-of-type {\n",
       "        vertical-align: middle;\n",
       "    }\n",
       "\n",
       "    .dataframe tbody tr th {\n",
       "        vertical-align: top;\n",
       "    }\n",
       "\n",
       "    .dataframe thead th {\n",
       "        text-align: right;\n",
       "    }\n",
       "</style>\n",
       "<table border=\"1\" class=\"dataframe\">\n",
       "  <thead>\n",
       "    <tr style=\"text-align: right;\">\n",
       "      <th></th>\n",
       "      <th>string_col</th>\n",
       "      <th>int_float</th>\n",
       "      <th>mix_col</th>\n",
       "      <th>missing</th>\n",
       "      <th>money</th>\n",
       "    </tr>\n",
       "  </thead>\n",
       "  <tbody>\n",
       "    <tr>\n",
       "      <th>0</th>\n",
       "      <td>1</td>\n",
       "      <td>1.0</td>\n",
       "      <td>a</td>\n",
       "      <td>1.0</td>\n",
       "      <td>$1,500.00</td>\n",
       "    </tr>\n",
       "    <tr>\n",
       "      <th>1</th>\n",
       "      <td>2</td>\n",
       "      <td>2.0</td>\n",
       "      <td>-2</td>\n",
       "      <td>2.0</td>\n",
       "      <td>$3,436.45</td>\n",
       "    </tr>\n",
       "    <tr>\n",
       "      <th>2</th>\n",
       "      <td>3</td>\n",
       "      <td>3.2</td>\n",
       "      <td>3</td>\n",
       "      <td>3.0</td>\n",
       "      <td>$958.99</td>\n",
       "    </tr>\n",
       "    <tr>\n",
       "      <th>3</th>\n",
       "      <td>4</td>\n",
       "      <td>4.6</td>\n",
       "      <td>4</td>\n",
       "      <td>NaN</td>\n",
       "      <td>$1,198.00</td>\n",
       "    </tr>\n",
       "  </tbody>\n",
       "</table>\n",
       "</div>"
      ],
      "text/plain": [
       "  string_col  int_float mix_col  missing      money\n",
       "0          1        1.0       a      1.0  $1,500.00\n",
       "1          2        2.0      -2      2.0  $3,436.45\n",
       "2          3        3.2       3      3.0    $958.99\n",
       "3          4        4.6       4      NaN  $1,198.00"
      ]
     },
     "execution_count": 8,
     "metadata": {},
     "output_type": "execute_result"
    }
   ],
   "source": [
    "df = pd.DataFrame(data=data)\n",
    "df.head()"
   ]
  },
  {
   "cell_type": "code",
   "execution_count": 9,
   "id": "1c5ccc18",
   "metadata": {},
   "outputs": [
    {
     "data": {
      "text/plain": [
       "0    1.0\n",
       "1    2.0\n",
       "2    3.0\n",
       "3    5.0\n",
       "Name: int_float, dtype: float64"
      ]
     },
     "execution_count": 9,
     "metadata": {},
     "output_type": "execute_result"
    }
   ],
   "source": [
    "df.int_float.round(0) #<-- Still float"
   ]
  },
  {
   "cell_type": "code",
   "execution_count": 10,
   "id": "ff9719fa",
   "metadata": {},
   "outputs": [
    {
     "data": {
      "text/plain": [
       "dtype('int8')"
      ]
     },
     "execution_count": 10,
     "metadata": {},
     "output_type": "execute_result"
    }
   ],
   "source": [
    "df['int_float'] = pd.to_numeric(df['int_float'].round(0), downcast='integer')\n",
    "df['int_float'].dtypes"
   ]
  },
  {
   "cell_type": "code",
   "execution_count": 11,
   "id": "e7bd398e",
   "metadata": {},
   "outputs": [
    {
     "data": {
      "text/plain": [
       "Int64Dtype()"
      ]
     },
     "execution_count": 11,
     "metadata": {},
     "output_type": "execute_result"
    }
   ],
   "source": [
    "# if we come across non numeric value errors='coerce' will convert it to NaN value\n",
    "df['mix_col'] = pd.to_numeric(df['mix_col'], errors='coerce').astype('Int64')\n",
    "df['mix_col'].dtypes"
   ]
  },
  {
   "cell_type": "code",
   "execution_count": 12,
   "id": "a54898b2",
   "metadata": {},
   "outputs": [
    {
     "data": {
      "text/html": [
       "<div>\n",
       "<style scoped>\n",
       "    .dataframe tbody tr th:only-of-type {\n",
       "        vertical-align: middle;\n",
       "    }\n",
       "\n",
       "    .dataframe tbody tr th {\n",
       "        vertical-align: top;\n",
       "    }\n",
       "\n",
       "    .dataframe thead th {\n",
       "        text-align: right;\n",
       "    }\n",
       "</style>\n",
       "<table border=\"1\" class=\"dataframe\">\n",
       "  <thead>\n",
       "    <tr style=\"text-align: right;\">\n",
       "      <th></th>\n",
       "      <th>string_col</th>\n",
       "      <th>int_float</th>\n",
       "      <th>mix_col</th>\n",
       "      <th>missing</th>\n",
       "      <th>money</th>\n",
       "    </tr>\n",
       "  </thead>\n",
       "  <tbody>\n",
       "    <tr>\n",
       "      <th>0</th>\n",
       "      <td>1</td>\n",
       "      <td>1</td>\n",
       "      <td>&lt;NA&gt;</td>\n",
       "      <td>1.0</td>\n",
       "      <td>$1,500.00</td>\n",
       "    </tr>\n",
       "    <tr>\n",
       "      <th>1</th>\n",
       "      <td>2</td>\n",
       "      <td>2</td>\n",
       "      <td>-2</td>\n",
       "      <td>2.0</td>\n",
       "      <td>$3,436.45</td>\n",
       "    </tr>\n",
       "    <tr>\n",
       "      <th>2</th>\n",
       "      <td>3</td>\n",
       "      <td>3</td>\n",
       "      <td>3</td>\n",
       "      <td>3.0</td>\n",
       "      <td>$958.99</td>\n",
       "    </tr>\n",
       "    <tr>\n",
       "      <th>3</th>\n",
       "      <td>4</td>\n",
       "      <td>5</td>\n",
       "      <td>4</td>\n",
       "      <td>NaN</td>\n",
       "      <td>$1,198.00</td>\n",
       "    </tr>\n",
       "  </tbody>\n",
       "</table>\n",
       "</div>"
      ],
      "text/plain": [
       "  string_col  int_float  mix_col  missing      money\n",
       "0          1          1     <NA>      1.0  $1,500.00\n",
       "1          2          2       -2      2.0  $3,436.45\n",
       "2          3          3        3      3.0    $958.99\n",
       "3          4          5        4      NaN  $1,198.00"
      ]
     },
     "execution_count": 12,
     "metadata": {},
     "output_type": "execute_result"
    }
   ],
   "source": [
    "df.head()"
   ]
  },
  {
   "cell_type": "code",
   "execution_count": 13,
   "id": "a10d2110",
   "metadata": {},
   "outputs": [
    {
     "data": {
      "text/plain": [
       "0    1.0\n",
       "1    2.0\n",
       "2    3.0\n",
       "3    2.0\n",
       "Name: missing, dtype: float64"
      ]
     },
     "execution_count": 13,
     "metadata": {},
     "output_type": "execute_result"
    }
   ],
   "source": [
    "df['missing'] = df['missing'].fillna(df['missing'].median())\n",
    "df['missing']"
   ]
  },
  {
   "cell_type": "code",
   "execution_count": 14,
   "id": "6370f82d",
   "metadata": {},
   "outputs": [
    {
     "name": "stderr",
     "output_type": "stream",
     "text": [
      "<ipython-input-14-9b8242808a2c>:1: FutureWarning: The default value of regex will change from True to False in a future version. In addition, single character regular expressions will*not* be treated as literal strings when regex=True.\n",
      "  df['money'] = df['money'].str.replace('$','').str.replace(',','')\n"
     ]
    },
    {
     "data": {
      "text/plain": [
       "0    1500.00\n",
       "1    3436.45\n",
       "2     958.99\n",
       "3    1198.00\n",
       "Name: money, dtype: object"
      ]
     },
     "execution_count": 14,
     "metadata": {},
     "output_type": "execute_result"
    }
   ],
   "source": [
    "df['money'] = df['money'].str.replace('$','').str.replace(',','')\n",
    "df['money']"
   ]
  },
  {
   "cell_type": "code",
   "execution_count": 15,
   "id": "b0c0396e",
   "metadata": {},
   "outputs": [
    {
     "data": {
      "text/plain": [
       "0    1500.00\n",
       "1    3436.45\n",
       "2     958.99\n",
       "3    1198.00\n",
       "Name: money, dtype: float64"
      ]
     },
     "execution_count": 15,
     "metadata": {},
     "output_type": "execute_result"
    }
   ],
   "source": [
    "df['money'] = pd.to_numeric(df['money'])\n",
    "df['money']"
   ]
  },
  {
   "cell_type": "code",
   "execution_count": 16,
   "id": "b9c8c00a",
   "metadata": {},
   "outputs": [],
   "source": [
    "df = pd.DataFrame(data=data)\n",
    "df['money'] = df['money'].str.replace('[\\$\\,]','', regex=True)\n",
    "df['money'] = pd.to_numeric(df['money']) #.round(0).astype('int')"
   ]
  },
  {
   "cell_type": "code",
   "execution_count": 17,
   "id": "81f07c72",
   "metadata": {},
   "outputs": [
    {
     "data": {
      "text/plain": [
       "0    1500.00\n",
       "1    3436.45\n",
       "2     958.99\n",
       "3    1198.00\n",
       "Name: money, dtype: float64"
      ]
     },
     "execution_count": 17,
     "metadata": {},
     "output_type": "execute_result"
    }
   ],
   "source": [
    "df['money']"
   ]
  },
  {
   "cell_type": "markdown",
   "id": "538b7934",
   "metadata": {},
   "source": [
    "#### Working with Date time"
   ]
  },
  {
   "cell_type": "code",
   "execution_count": 18,
   "id": "e91403e6",
   "metadata": {},
   "outputs": [
    {
     "data": {
      "text/html": [
       "<div>\n",
       "<style scoped>\n",
       "    .dataframe tbody tr th:only-of-type {\n",
       "        vertical-align: middle;\n",
       "    }\n",
       "\n",
       "    .dataframe tbody tr th {\n",
       "        vertical-align: top;\n",
       "    }\n",
       "\n",
       "    .dataframe thead th {\n",
       "        text-align: right;\n",
       "    }\n",
       "</style>\n",
       "<table border=\"1\" class=\"dataframe\">\n",
       "  <thead>\n",
       "    <tr style=\"text-align: right;\">\n",
       "      <th></th>\n",
       "      <th>date</th>\n",
       "      <th>p1_sales</th>\n",
       "      <th>p2_sales</th>\n",
       "    </tr>\n",
       "  </thead>\n",
       "  <tbody>\n",
       "    <tr>\n",
       "      <th>0</th>\n",
       "      <td>1/1/2020</td>\n",
       "      <td>39</td>\n",
       "      <td>47</td>\n",
       "    </tr>\n",
       "    <tr>\n",
       "      <th>1</th>\n",
       "      <td>1/2/2020</td>\n",
       "      <td>245</td>\n",
       "      <td>314</td>\n",
       "    </tr>\n",
       "    <tr>\n",
       "      <th>2</th>\n",
       "      <td>1/3/2020</td>\n",
       "      <td>174</td>\n",
       "      <td>215</td>\n",
       "    </tr>\n",
       "    <tr>\n",
       "      <th>3</th>\n",
       "      <td>1/4/2020</td>\n",
       "      <td>58</td>\n",
       "      <td>198</td>\n",
       "    </tr>\n",
       "    <tr>\n",
       "      <th>4</th>\n",
       "      <td>1/5/2020</td>\n",
       "      <td>66</td>\n",
       "      <td>77</td>\n",
       "    </tr>\n",
       "  </tbody>\n",
       "</table>\n",
       "</div>"
      ],
      "text/plain": [
       "       date p1_sales  p2_sales\n",
       "0  1/1/2020       39        47\n",
       "1  1/2/2020      245       314\n",
       "2  1/3/2020      174       215\n",
       "3  1/4/2020       58       198\n",
       "4  1/5/2020       66        77"
      ]
     },
     "execution_count": 18,
     "metadata": {},
     "output_type": "execute_result"
    }
   ],
   "source": [
    "df = pd.read_csv('https://bit.ly/3oCOgE8')\n",
    "df.head()"
   ]
  },
  {
   "cell_type": "code",
   "execution_count": 19,
   "id": "824ebc15",
   "metadata": {},
   "outputs": [
    {
     "data": {
      "text/plain": [
       "date        object\n",
       "p1_sales    object\n",
       "p2_sales     int64\n",
       "dtype: object"
      ]
     },
     "execution_count": 19,
     "metadata": {},
     "output_type": "execute_result"
    }
   ],
   "source": [
    "df.dtypes"
   ]
  },
  {
   "cell_type": "code",
   "execution_count": 20,
   "id": "2f22545b",
   "metadata": {},
   "outputs": [
    {
     "data": {
      "text/plain": [
       "date        datetime64[ns]\n",
       "p1_sales            object\n",
       "p2_sales             int64\n",
       "dtype: object"
      ]
     },
     "execution_count": 20,
     "metadata": {},
     "output_type": "execute_result"
    }
   ],
   "source": [
    "df['date'] = pd.to_datetime(df['date'])\n",
    "df.dtypes                                                                                                                                                   "
   ]
  },
  {
   "cell_type": "code",
   "execution_count": 21,
   "id": "44d37b31",
   "metadata": {},
   "outputs": [
    {
     "data": {
      "text/html": [
       "<div>\n",
       "<style scoped>\n",
       "    .dataframe tbody tr th:only-of-type {\n",
       "        vertical-align: middle;\n",
       "    }\n",
       "\n",
       "    .dataframe tbody tr th {\n",
       "        vertical-align: top;\n",
       "    }\n",
       "\n",
       "    .dataframe thead th {\n",
       "        text-align: right;\n",
       "    }\n",
       "</style>\n",
       "<table border=\"1\" class=\"dataframe\">\n",
       "  <thead>\n",
       "    <tr style=\"text-align: right;\">\n",
       "      <th></th>\n",
       "      <th>date</th>\n",
       "      <th>col</th>\n",
       "    </tr>\n",
       "  </thead>\n",
       "  <tbody>\n",
       "    <tr>\n",
       "      <th>0</th>\n",
       "      <td>1/7/2020</td>\n",
       "      <td>1</td>\n",
       "    </tr>\n",
       "    <tr>\n",
       "      <th>1</th>\n",
       "      <td>2/9/2020</td>\n",
       "      <td>2</td>\n",
       "    </tr>\n",
       "    <tr>\n",
       "      <th>2</th>\n",
       "      <td>3/5/2020</td>\n",
       "      <td>3</td>\n",
       "    </tr>\n",
       "  </tbody>\n",
       "</table>\n",
       "</div>"
      ],
      "text/plain": [
       "       date  col\n",
       "0  1/7/2020    1\n",
       "1  2/9/2020    2\n",
       "2  3/5/2020    3"
      ]
     },
     "execution_count": 21,
     "metadata": {},
     "output_type": "execute_result"
    }
   ],
   "source": [
    "dates = pd.DataFrame({'date':['1/7/2020','2/9/2020','3/5/2020'],'col':[1,2,3]})\n",
    "dates"
   ]
  },
  {
   "cell_type": "markdown",
   "id": "6442f74b",
   "metadata": {},
   "source": [
    "##### Pandas by default takes the first value before / to be month mm/dd/yyyy\n",
    "##### Some countries follow dd/mm/yyyy "
   ]
  },
  {
   "cell_type": "code",
   "execution_count": 22,
   "id": "98ed71cb",
   "metadata": {},
   "outputs": [],
   "source": [
    "dates['converted'] = pd.to_datetime(df['date'])"
   ]
  },
  {
   "cell_type": "code",
   "execution_count": 23,
   "id": "b9d381e7",
   "metadata": {},
   "outputs": [
    {
     "data": {
      "text/plain": [
       "0    January\n",
       "1    January\n",
       "2    January\n",
       "Name: converted, dtype: object"
      ]
     },
     "execution_count": 23,
     "metadata": {},
     "output_type": "execute_result"
    }
   ],
   "source": [
    "dates['converted'].dt.month_name()"
   ]
  },
  {
   "cell_type": "code",
   "execution_count": 24,
   "id": "2655d596",
   "metadata": {},
   "outputs": [
    {
     "data": {
      "text/plain": [
       "0         July\n",
       "1    September\n",
       "2          May\n",
       "Name: converted, dtype: object"
      ]
     },
     "execution_count": 24,
     "metadata": {},
     "output_type": "execute_result"
    }
   ],
   "source": [
    "df = pd.DataFrame({'date':['1/7/2020','2/9/2020','3/5/2020'],'col':[1,2,3]})\n",
    "df['converted'] = pd.to_datetime(df['date'], format='%d/%m/%Y')   \n",
    "df['converted'].dt.month_name()"
   ]
  },
  {
   "cell_type": "markdown",
   "id": "dbd11999",
   "metadata": {},
   "source": [
    "#### Note:\n",
    "1. if date is described as 7-3-2020, we use format='%d-%m-%Y' \n",
    "2. If date is described as 7-3-20, meaning year has only 2 digits, we use 'y' instead of 'Y'"
   ]
  },
  {
   "cell_type": "code",
   "execution_count": 25,
   "id": "15c61161",
   "metadata": {},
   "outputs": [
    {
     "data": {
      "text/plain": [
       "0    2020\n",
       "1    2020\n",
       "2    2020\n",
       "Name: converted, dtype: int64"
      ]
     },
     "execution_count": 25,
     "metadata": {},
     "output_type": "execute_result"
    }
   ],
   "source": [
    "df['converted'].dt.year"
   ]
  },
  {
   "cell_type": "code",
   "execution_count": 26,
   "id": "b150c9c1",
   "metadata": {},
   "outputs": [
    {
     "data": {
      "text/plain": [
       "0    1\n",
       "1    2\n",
       "2    3\n",
       "Name: converted, dtype: int64"
      ]
     },
     "execution_count": 26,
     "metadata": {},
     "output_type": "execute_result"
    }
   ],
   "source": [
    "df['converted'].dt.day"
   ]
  },
  {
   "cell_type": "code",
   "execution_count": 27,
   "id": "a5c2192d",
   "metadata": {},
   "outputs": [
    {
     "data": {
      "text/plain": [
       "0    7\n",
       "1    9\n",
       "2    5\n",
       "Name: converted, dtype: int64"
      ]
     },
     "execution_count": 27,
     "metadata": {},
     "output_type": "execute_result"
    }
   ],
   "source": [
    "df['converted'].dt.month"
   ]
  },
  {
   "cell_type": "code",
   "execution_count": 28,
   "id": "46fd0886",
   "metadata": {},
   "outputs": [
    {
     "data": {
      "text/html": [
       "<div>\n",
       "<style scoped>\n",
       "    .dataframe tbody tr th:only-of-type {\n",
       "        vertical-align: middle;\n",
       "    }\n",
       "\n",
       "    .dataframe tbody tr th {\n",
       "        vertical-align: top;\n",
       "    }\n",
       "\n",
       "    .dataframe thead th {\n",
       "        text-align: right;\n",
       "    }\n",
       "</style>\n",
       "<table border=\"1\" class=\"dataframe\">\n",
       "  <thead>\n",
       "    <tr style=\"text-align: right;\">\n",
       "      <th></th>\n",
       "      <th>date_time</th>\n",
       "    </tr>\n",
       "  </thead>\n",
       "  <tbody>\n",
       "    <tr>\n",
       "      <th>0</th>\n",
       "      <td>1/1/2020 01:30:27</td>\n",
       "    </tr>\n",
       "    <tr>\n",
       "      <th>1</th>\n",
       "      <td>2/2/2020 06:37:27</td>\n",
       "    </tr>\n",
       "    <tr>\n",
       "      <th>2</th>\n",
       "      <td>3/3/2020 09:40:27</td>\n",
       "    </tr>\n",
       "  </tbody>\n",
       "</table>\n",
       "</div>"
      ],
      "text/plain": [
       "           date_time\n",
       "0  1/1/2020 01:30:27\n",
       "1  2/2/2020 06:37:27\n",
       "2  3/3/2020 09:40:27"
      ]
     },
     "execution_count": 28,
     "metadata": {},
     "output_type": "execute_result"
    }
   ],
   "source": [
    "datetime = pd.DataFrame({'date_time':['1/1/2020 01:30:27','2/2/2020 06:37:27','3/3/2020 09:40:27']})\n",
    "datetime"
   ]
  },
  {
   "cell_type": "code",
   "execution_count": 29,
   "id": "b2ffb3aa",
   "metadata": {},
   "outputs": [],
   "source": [
    "datetime['converted'] = pd.to_datetime(datetime['date_time'], format='%d/%m/%Y %H:%M:%S')"
   ]
  },
  {
   "cell_type": "code",
   "execution_count": 30,
   "id": "a497a313",
   "metadata": {},
   "outputs": [
    {
     "data": {
      "text/html": [
       "<div>\n",
       "<style scoped>\n",
       "    .dataframe tbody tr th:only-of-type {\n",
       "        vertical-align: middle;\n",
       "    }\n",
       "\n",
       "    .dataframe tbody tr th {\n",
       "        vertical-align: top;\n",
       "    }\n",
       "\n",
       "    .dataframe thead th {\n",
       "        text-align: right;\n",
       "    }\n",
       "</style>\n",
       "<table border=\"1\" class=\"dataframe\">\n",
       "  <thead>\n",
       "    <tr style=\"text-align: right;\">\n",
       "      <th></th>\n",
       "      <th>date_time</th>\n",
       "      <th>converted</th>\n",
       "    </tr>\n",
       "  </thead>\n",
       "  <tbody>\n",
       "    <tr>\n",
       "      <th>0</th>\n",
       "      <td>1/1/2020 01:30:27</td>\n",
       "      <td>2020-01-01 01:30:27</td>\n",
       "    </tr>\n",
       "    <tr>\n",
       "      <th>1</th>\n",
       "      <td>2/2/2020 06:37:27</td>\n",
       "      <td>2020-02-02 06:37:27</td>\n",
       "    </tr>\n",
       "    <tr>\n",
       "      <th>2</th>\n",
       "      <td>3/3/2020 09:40:27</td>\n",
       "      <td>2020-03-03 09:40:27</td>\n",
       "    </tr>\n",
       "  </tbody>\n",
       "</table>\n",
       "</div>"
      ],
      "text/plain": [
       "           date_time           converted\n",
       "0  1/1/2020 01:30:27 2020-01-01 01:30:27\n",
       "1  2/2/2020 06:37:27 2020-02-02 06:37:27\n",
       "2  3/3/2020 09:40:27 2020-03-03 09:40:27"
      ]
     },
     "execution_count": 30,
     "metadata": {},
     "output_type": "execute_result"
    }
   ],
   "source": [
    "datetime.head()"
   ]
  },
  {
   "cell_type": "code",
   "execution_count": 31,
   "id": "2ad81e73",
   "metadata": {},
   "outputs": [
    {
     "data": {
      "text/plain": [
       "date        object\n",
       "p1_sales    object\n",
       "p2_sales     int64\n",
       "dtype: object"
      ]
     },
     "execution_count": 31,
     "metadata": {},
     "output_type": "execute_result"
    }
   ],
   "source": [
    "df_dates = pd.read_csv('https://bit.ly/3oCOgE8', date_parser='%m/%d/%Y')\n",
    "df_dates.dtypes"
   ]
  },
  {
   "cell_type": "code",
   "execution_count": 32,
   "id": "c0fbabdc",
   "metadata": {},
   "outputs": [
    {
     "data": {
      "text/html": [
       "<div>\n",
       "<style scoped>\n",
       "    .dataframe tbody tr th:only-of-type {\n",
       "        vertical-align: middle;\n",
       "    }\n",
       "\n",
       "    .dataframe tbody tr th {\n",
       "        vertical-align: top;\n",
       "    }\n",
       "\n",
       "    .dataframe thead th {\n",
       "        text-align: right;\n",
       "    }\n",
       "</style>\n",
       "<table border=\"1\" class=\"dataframe\">\n",
       "  <thead>\n",
       "    <tr style=\"text-align: right;\">\n",
       "      <th></th>\n",
       "      <th>date</th>\n",
       "      <th>p1_sales</th>\n",
       "      <th>p2_sales</th>\n",
       "    </tr>\n",
       "  </thead>\n",
       "  <tbody>\n",
       "    <tr>\n",
       "      <th>0</th>\n",
       "      <td>1/1/2020</td>\n",
       "      <td>39</td>\n",
       "      <td>47</td>\n",
       "    </tr>\n",
       "    <tr>\n",
       "      <th>1</th>\n",
       "      <td>1/2/2020</td>\n",
       "      <td>245</td>\n",
       "      <td>314</td>\n",
       "    </tr>\n",
       "    <tr>\n",
       "      <th>2</th>\n",
       "      <td>1/3/2020</td>\n",
       "      <td>174</td>\n",
       "      <td>215</td>\n",
       "    </tr>\n",
       "    <tr>\n",
       "      <th>3</th>\n",
       "      <td>1/4/2020</td>\n",
       "      <td>58</td>\n",
       "      <td>198</td>\n",
       "    </tr>\n",
       "    <tr>\n",
       "      <th>4</th>\n",
       "      <td>1/5/2020</td>\n",
       "      <td>66</td>\n",
       "      <td>77</td>\n",
       "    </tr>\n",
       "  </tbody>\n",
       "</table>\n",
       "</div>"
      ],
      "text/plain": [
       "       date p1_sales  p2_sales\n",
       "0  1/1/2020       39        47\n",
       "1  1/2/2020      245       314\n",
       "2  1/3/2020      174       215\n",
       "3  1/4/2020       58       198\n",
       "4  1/5/2020       66        77"
      ]
     },
     "execution_count": 32,
     "metadata": {},
     "output_type": "execute_result"
    }
   ],
   "source": [
    "df_dates.head()"
   ]
  }
 ],
 "metadata": {
  "kernelspec": {
   "display_name": "Python 3",
   "language": "python",
   "name": "python3"
  },
  "language_info": {
   "codemirror_mode": {
    "name": "ipython",
    "version": 3
   },
   "file_extension": ".py",
   "mimetype": "text/x-python",
   "name": "python",
   "nbconvert_exporter": "python",
   "pygments_lexer": "ipython3",
   "version": "3.8.8"
  }
 },
 "nbformat": 4,
 "nbformat_minor": 5
}
