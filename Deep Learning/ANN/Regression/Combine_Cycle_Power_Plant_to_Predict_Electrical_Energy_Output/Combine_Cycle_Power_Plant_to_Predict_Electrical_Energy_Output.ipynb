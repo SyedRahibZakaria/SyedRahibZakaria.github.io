{
  "nbformat": 4,
  "nbformat_minor": 0,
  "metadata": {
    "colab": {
      "name": "Combine Cycle Power Plant to Predict Electrical Energy Output.ipynb",
      "provenance": []
    },
    "kernelspec": {
      "name": "python3",
      "display_name": "Python 3"
    },
    "accelerator": "GPU"
  },
  "cells": [
    {
      "cell_type": "code",
      "metadata": {
        "id": "0VaDZqXmldq_",
        "colab_type": "code",
        "colab": {}
      },
      "source": [
        "# Importing Libraries\n",
        "import numpy as np\n",
        "import pandas as pd\n",
        "import tensorflow as tf"
      ],
      "execution_count": 1,
      "outputs": []
    },
    {
      "cell_type": "code",
      "metadata": {
        "id": "ekxlF2TUo9iE",
        "colab_type": "code",
        "colab": {
          "base_uri": "https://localhost:8080/",
          "height": 35
        },
        "outputId": "a6ec95c3-28ec-4ba5-ffa2-c59b7c208f9b"
      },
      "source": [
        "tf.__version__"
      ],
      "execution_count": 2,
      "outputs": [
        {
          "output_type": "execute_result",
          "data": {
            "application/vnd.google.colaboratory.intrinsic": {
              "type": "string"
            },
            "text/plain": [
              "'2.2.0'"
            ]
          },
          "metadata": {
            "tags": []
          },
          "execution_count": 2
        }
      ]
    },
    {
      "cell_type": "code",
      "metadata": {
        "id": "6qGILA9-pdqU",
        "colab_type": "code",
        "colab": {}
      },
      "source": [
        "# Importing Dataset\n",
        "ds = pd.read_excel(\"Combine_Cycle_Power_Plant_Dataset.xlsx\")\n",
        "X = ds.iloc[:, :-1].values\n",
        "y = ds.iloc[:, -1].values"
      ],
      "execution_count": 3,
      "outputs": []
    },
    {
      "cell_type": "code",
      "metadata": {
        "id": "KOP9-4oAquYH",
        "colab_type": "code",
        "colab": {
          "base_uri": "https://localhost:8080/",
          "height": 134
        },
        "outputId": "ef8b5d6c-3b77-4b72-cb65-e98719b7c48a"
      },
      "source": [
        "print(X)"
      ],
      "execution_count": 4,
      "outputs": [
        {
          "output_type": "stream",
          "text": [
            "[[  14.96   41.76 1024.07   73.17]\n",
            " [  25.18   62.96 1020.04   59.08]\n",
            " [   5.11   39.4  1012.16   92.14]\n",
            " ...\n",
            " [  31.32   74.33 1012.92   36.48]\n",
            " [  24.48   69.45 1013.86   62.39]\n",
            " [  21.6    62.52 1017.23   67.87]]\n"
          ],
          "name": "stdout"
        }
      ]
    },
    {
      "cell_type": "code",
      "metadata": {
        "id": "5SKhNYVEqw9I",
        "colab_type": "code",
        "colab": {
          "base_uri": "https://localhost:8080/",
          "height": 34
        },
        "outputId": "6df58298-41a5-48cb-ee65-ecb631ca9427"
      },
      "source": [
        "print(y)"
      ],
      "execution_count": 5,
      "outputs": [
        {
          "output_type": "stream",
          "text": [
            "[463.26 444.37 488.56 ... 429.57 435.74 453.28]\n"
          ],
          "name": "stdout"
        }
      ]
    },
    {
      "cell_type": "code",
      "metadata": {
        "id": "n8ItfXpgqZ3L",
        "colab_type": "code",
        "colab": {}
      },
      "source": [
        "# Splitting dataset into Training set and Test set\n",
        "from sklearn.model_selection import train_test_split\n",
        "X_train, X_test, y_train, y_test = train_test_split(X, y, test_size = 0.2, random_state = 0)"
      ],
      "execution_count": 6,
      "outputs": []
    },
    {
      "cell_type": "markdown",
      "metadata": {
        "id": "e3uGNSrPsCgD",
        "colab_type": "text"
      },
      "source": [
        "Feature Scaling"
      ]
    },
    {
      "cell_type": "code",
      "metadata": {
        "id": "ZFYxqNE0r9mN",
        "colab_type": "code",
        "colab": {}
      },
      "source": [
        "# In ANN we need to apply feature scalling in the dummy variables as well\n",
        "from sklearn.preprocessing import StandardScaler\n",
        "sc = StandardScaler()\n",
        "X_train = sc.fit_transform(X_train)\n",
        "X_test = sc.transform(X_test)"
      ],
      "execution_count": 7,
      "outputs": []
    },
    {
      "cell_type": "markdown",
      "metadata": {
        "id": "52KfdChBrpa8",
        "colab_type": "text"
      },
      "source": [
        "Building ANN"
      ]
    },
    {
      "cell_type": "code",
      "metadata": {
        "id": "AesN_n0Qrm7E",
        "colab_type": "code",
        "colab": {}
      },
      "source": [
        "# Initialize ANN\n",
        "ann = tf.keras.models.Sequential()"
      ],
      "execution_count": 8,
      "outputs": []
    },
    {
      "cell_type": "code",
      "metadata": {
        "id": "3IvQLV_gsaR7",
        "colab_type": "code",
        "colab": {}
      },
      "source": [
        "# Adding 1st Hidden Layer\n",
        "ann.add(tf.keras.layers.Dense(units=6, activation='relu'))"
      ],
      "execution_count": 9,
      "outputs": []
    },
    {
      "cell_type": "code",
      "metadata": {
        "id": "876bkxITs6HW",
        "colab_type": "code",
        "colab": {}
      },
      "source": [
        "# Adding 2nd Hidden Layer\n",
        "ann.add(tf.keras.layers.Dense(units=6, activation='relu'))"
      ],
      "execution_count": 10,
      "outputs": []
    },
    {
      "cell_type": "code",
      "metadata": {
        "id": "zgdUmTh9s9FV",
        "colab_type": "code",
        "colab": {}
      },
      "source": [
        "# Adding Output Layer\n",
        "ann.add(tf.keras.layers.Dense(units=1))\n",
        "\n",
        "# Since we are using ANN for regression, we keep the Activation Function as \"None\""
      ],
      "execution_count": 11,
      "outputs": []
    },
    {
      "cell_type": "markdown",
      "metadata": {
        "id": "BcSuijeqts6e",
        "colab_type": "text"
      },
      "source": [
        "Training ANN"
      ]
    },
    {
      "cell_type": "code",
      "metadata": {
        "id": "gJdxYfQUtjGo",
        "colab_type": "code",
        "colab": {}
      },
      "source": [
        "# Compiling ANN model\n",
        "ann.compile(optimizer='adam', loss='mean_squared_error')\n",
        "\n",
        "# Since we are solving a regression problem, the loss will be \"mse\" or \"mean_squared_error\" or \"rmse\" or \"root_mean_squared_error\""
      ],
      "execution_count": 12,
      "outputs": []
    },
    {
      "cell_type": "code",
      "metadata": {
        "id": "aQP75vWQvTM_",
        "colab_type": "code",
        "colab": {
          "base_uri": "https://localhost:8080/",
          "height": 1000
        },
        "outputId": "1d5060d1-bcb7-413f-d87b-179aa2fa659e"
      },
      "source": [
        "# Training ANN model on Training set\n",
        "ann.fit(X_train, y_train, batch_size = 32, epochs=100)"
      ],
      "execution_count": 13,
      "outputs": [
        {
          "output_type": "stream",
          "text": [
            "Epoch 1/100\n",
            "240/240 [==============================] - 1s 3ms/step - loss: 202909.8281\n",
            "Epoch 2/100\n",
            "240/240 [==============================] - 1s 2ms/step - loss: 180943.3281\n",
            "Epoch 3/100\n",
            "240/240 [==============================] - 1s 2ms/step - loss: 130032.0625\n",
            "Epoch 4/100\n",
            "240/240 [==============================] - 1s 3ms/step - loss: 76500.6953\n",
            "Epoch 5/100\n",
            "240/240 [==============================] - 1s 3ms/step - loss: 44468.8516\n",
            "Epoch 6/100\n",
            "240/240 [==============================] - 1s 2ms/step - loss: 25689.3164\n",
            "Epoch 7/100\n",
            "240/240 [==============================] - 1s 3ms/step - loss: 15301.9697\n",
            "Epoch 8/100\n",
            "240/240 [==============================] - 1s 3ms/step - loss: 10375.5889\n",
            "Epoch 9/100\n",
            "240/240 [==============================] - 1s 2ms/step - loss: 7420.9253\n",
            "Epoch 10/100\n",
            "240/240 [==============================] - 1s 2ms/step - loss: 5162.9517\n",
            "Epoch 11/100\n",
            "240/240 [==============================] - 1s 2ms/step - loss: 3559.9360\n",
            "Epoch 12/100\n",
            "240/240 [==============================] - 1s 2ms/step - loss: 2486.6096\n",
            "Epoch 13/100\n",
            "240/240 [==============================] - 1s 3ms/step - loss: 1733.1395\n",
            "Epoch 14/100\n",
            "240/240 [==============================] - 1s 2ms/step - loss: 1115.6450\n",
            "Epoch 15/100\n",
            "240/240 [==============================] - 1s 3ms/step - loss: 672.4750\n",
            "Epoch 16/100\n",
            "240/240 [==============================] - 1s 3ms/step - loss: 398.6508\n",
            "Epoch 17/100\n",
            "240/240 [==============================] - 1s 2ms/step - loss: 247.5336\n",
            "Epoch 18/100\n",
            "240/240 [==============================] - 1s 2ms/step - loss: 168.0691\n",
            "Epoch 19/100\n",
            "240/240 [==============================] - 1s 3ms/step - loss: 124.4949\n",
            "Epoch 20/100\n",
            "240/240 [==============================] - 1s 3ms/step - loss: 97.4594\n",
            "Epoch 21/100\n",
            "240/240 [==============================] - 1s 3ms/step - loss: 78.8073\n",
            "Epoch 22/100\n",
            "240/240 [==============================] - 1s 2ms/step - loss: 64.9076\n",
            "Epoch 23/100\n",
            "240/240 [==============================] - 1s 2ms/step - loss: 53.9738\n",
            "Epoch 24/100\n",
            "240/240 [==============================] - 1s 3ms/step - loss: 45.6455\n",
            "Epoch 25/100\n",
            "240/240 [==============================] - 1s 3ms/step - loss: 39.0887\n",
            "Epoch 26/100\n",
            "240/240 [==============================] - 1s 3ms/step - loss: 34.1492\n",
            "Epoch 27/100\n",
            "240/240 [==============================] - 1s 2ms/step - loss: 30.4074\n",
            "Epoch 28/100\n",
            "240/240 [==============================] - 1s 2ms/step - loss: 27.5534\n",
            "Epoch 29/100\n",
            "240/240 [==============================] - 1s 2ms/step - loss: 25.4081\n",
            "Epoch 30/100\n",
            "240/240 [==============================] - 1s 2ms/step - loss: 23.8863\n",
            "Epoch 31/100\n",
            "240/240 [==============================] - 1s 3ms/step - loss: 22.7447\n",
            "Epoch 32/100\n",
            "240/240 [==============================] - 1s 2ms/step - loss: 21.8252\n",
            "Epoch 33/100\n",
            "240/240 [==============================] - 1s 2ms/step - loss: 21.2377\n",
            "Epoch 34/100\n",
            "240/240 [==============================] - 1s 2ms/step - loss: 20.7409\n",
            "Epoch 35/100\n",
            "240/240 [==============================] - 1s 3ms/step - loss: 20.3099\n",
            "Epoch 36/100\n",
            "240/240 [==============================] - 1s 2ms/step - loss: 20.1686\n",
            "Epoch 37/100\n",
            "240/240 [==============================] - 1s 2ms/step - loss: 20.1034\n",
            "Epoch 38/100\n",
            "240/240 [==============================] - 1s 2ms/step - loss: 19.7561\n",
            "Epoch 39/100\n",
            "240/240 [==============================] - 1s 2ms/step - loss: 19.6153\n",
            "Epoch 40/100\n",
            "240/240 [==============================] - 1s 3ms/step - loss: 19.4749\n",
            "Epoch 41/100\n",
            "240/240 [==============================] - 1s 3ms/step - loss: 19.4671\n",
            "Epoch 42/100\n",
            "240/240 [==============================] - 1s 3ms/step - loss: 19.2932\n",
            "Epoch 43/100\n",
            "240/240 [==============================] - 1s 3ms/step - loss: 19.4830\n",
            "Epoch 44/100\n",
            "240/240 [==============================] - 1s 3ms/step - loss: 19.3029\n",
            "Epoch 45/100\n",
            "240/240 [==============================] - 1s 2ms/step - loss: 19.4583\n",
            "Epoch 46/100\n",
            "240/240 [==============================] - 1s 3ms/step - loss: 19.5381\n",
            "Epoch 47/100\n",
            "240/240 [==============================] - 1s 3ms/step - loss: 19.2096\n",
            "Epoch 48/100\n",
            "240/240 [==============================] - 1s 3ms/step - loss: 19.3193\n",
            "Epoch 49/100\n",
            "240/240 [==============================] - 1s 3ms/step - loss: 19.3489\n",
            "Epoch 50/100\n",
            "240/240 [==============================] - 1s 3ms/step - loss: 19.2085\n",
            "Epoch 51/100\n",
            "240/240 [==============================] - 1s 3ms/step - loss: 19.2381\n",
            "Epoch 52/100\n",
            "240/240 [==============================] - 1s 2ms/step - loss: 19.3574\n",
            "Epoch 53/100\n",
            "240/240 [==============================] - 1s 3ms/step - loss: 19.3441\n",
            "Epoch 54/100\n",
            "240/240 [==============================] - 1s 2ms/step - loss: 19.2057\n",
            "Epoch 55/100\n",
            "240/240 [==============================] - 1s 3ms/step - loss: 19.2909\n",
            "Epoch 56/100\n",
            "240/240 [==============================] - 1s 2ms/step - loss: 19.2410\n",
            "Epoch 57/100\n",
            "240/240 [==============================] - 1s 3ms/step - loss: 19.1626\n",
            "Epoch 58/100\n",
            "240/240 [==============================] - 1s 3ms/step - loss: 19.2375\n",
            "Epoch 59/100\n",
            "240/240 [==============================] - 1s 2ms/step - loss: 19.1165\n",
            "Epoch 60/100\n",
            "240/240 [==============================] - 1s 3ms/step - loss: 19.3553\n",
            "Epoch 61/100\n",
            "240/240 [==============================] - 1s 2ms/step - loss: 19.2823\n",
            "Epoch 62/100\n",
            "240/240 [==============================] - 1s 2ms/step - loss: 19.1742\n",
            "Epoch 63/100\n",
            "240/240 [==============================] - 1s 3ms/step - loss: 19.1699\n",
            "Epoch 64/100\n",
            "240/240 [==============================] - 1s 2ms/step - loss: 19.2744\n",
            "Epoch 65/100\n",
            "240/240 [==============================] - 1s 3ms/step - loss: 19.2018\n",
            "Epoch 66/100\n",
            "240/240 [==============================] - 1s 3ms/step - loss: 19.1862\n",
            "Epoch 67/100\n",
            "240/240 [==============================] - 1s 2ms/step - loss: 19.1887\n",
            "Epoch 68/100\n",
            "240/240 [==============================] - 1s 3ms/step - loss: 19.1457\n",
            "Epoch 69/100\n",
            "240/240 [==============================] - 1s 3ms/step - loss: 19.2816\n",
            "Epoch 70/100\n",
            "240/240 [==============================] - 1s 3ms/step - loss: 19.1172\n",
            "Epoch 71/100\n",
            "240/240 [==============================] - 1s 2ms/step - loss: 19.1895\n",
            "Epoch 72/100\n",
            "240/240 [==============================] - 1s 3ms/step - loss: 19.2891\n",
            "Epoch 73/100\n",
            "240/240 [==============================] - 1s 3ms/step - loss: 19.1570\n",
            "Epoch 74/100\n",
            "240/240 [==============================] - 1s 2ms/step - loss: 19.1957\n",
            "Epoch 75/100\n",
            "240/240 [==============================] - 1s 3ms/step - loss: 19.3092\n",
            "Epoch 76/100\n",
            "240/240 [==============================] - 1s 2ms/step - loss: 19.2538\n",
            "Epoch 77/100\n",
            "240/240 [==============================] - 1s 3ms/step - loss: 19.3098\n",
            "Epoch 78/100\n",
            "240/240 [==============================] - 1s 3ms/step - loss: 19.1368\n",
            "Epoch 79/100\n",
            "240/240 [==============================] - 1s 2ms/step - loss: 19.2270\n",
            "Epoch 80/100\n",
            "240/240 [==============================] - 1s 3ms/step - loss: 19.1382\n",
            "Epoch 81/100\n",
            "240/240 [==============================] - 1s 2ms/step - loss: 19.2144\n",
            "Epoch 82/100\n",
            "240/240 [==============================] - 1s 3ms/step - loss: 19.1070\n",
            "Epoch 83/100\n",
            "240/240 [==============================] - 1s 3ms/step - loss: 19.2006\n",
            "Epoch 84/100\n",
            "240/240 [==============================] - 1s 2ms/step - loss: 19.1331\n",
            "Epoch 85/100\n",
            "240/240 [==============================] - 1s 3ms/step - loss: 19.0854\n",
            "Epoch 86/100\n",
            "240/240 [==============================] - 1s 2ms/step - loss: 19.2839\n",
            "Epoch 87/100\n",
            "240/240 [==============================] - 1s 3ms/step - loss: 19.1658\n",
            "Epoch 88/100\n",
            "240/240 [==============================] - 1s 3ms/step - loss: 19.1194\n",
            "Epoch 89/100\n",
            "240/240 [==============================] - 1s 2ms/step - loss: 19.2355\n",
            "Epoch 90/100\n",
            "240/240 [==============================] - 1s 3ms/step - loss: 19.3151\n",
            "Epoch 91/100\n",
            "240/240 [==============================] - 1s 2ms/step - loss: 19.1505\n",
            "Epoch 92/100\n",
            "240/240 [==============================] - 1s 3ms/step - loss: 19.2096\n",
            "Epoch 93/100\n",
            "240/240 [==============================] - 1s 3ms/step - loss: 19.1797\n",
            "Epoch 94/100\n",
            "240/240 [==============================] - 1s 2ms/step - loss: 19.1120\n",
            "Epoch 95/100\n",
            "240/240 [==============================] - 1s 3ms/step - loss: 19.0485\n",
            "Epoch 96/100\n",
            "240/240 [==============================] - 1s 2ms/step - loss: 19.3081\n",
            "Epoch 97/100\n",
            "240/240 [==============================] - 1s 3ms/step - loss: 19.1417\n",
            "Epoch 98/100\n",
            "240/240 [==============================] - 1s 3ms/step - loss: 19.3415\n",
            "Epoch 99/100\n",
            "240/240 [==============================] - 1s 2ms/step - loss: 19.1399\n",
            "Epoch 100/100\n",
            "240/240 [==============================] - 1s 3ms/step - loss: 19.2072\n"
          ],
          "name": "stdout"
        },
        {
          "output_type": "execute_result",
          "data": {
            "text/plain": [
              "<tensorflow.python.keras.callbacks.History at 0x7f48a0695278>"
            ]
          },
          "metadata": {
            "tags": []
          },
          "execution_count": 13
        }
      ]
    },
    {
      "cell_type": "markdown",
      "metadata": {
        "id": "N0UODuDmwVXG",
        "colab_type": "text"
      },
      "source": [
        "Predicting the results of Test set"
      ]
    },
    {
      "cell_type": "code",
      "metadata": {
        "id": "B0wtfw_iwDde",
        "colab_type": "code",
        "colab": {
          "base_uri": "https://localhost:8080/",
          "height": 134
        },
        "outputId": "ff299882-9240-40e3-ad96-ffbe43793040"
      },
      "source": [
        "y_pred = ann.predict(X_test)\n",
        "np.set_printoptions(precision=2) # Set the number of values after decimal point to 2\n",
        "\n",
        "# Converting 1 row X len(y_pred) columns to len(y_pred) rows X 1 column\n",
        "print(np.concatenate((y_pred.reshape(len(y_pred),1), y_test.reshape(len(y_test),1)), 1))\n",
        "\n",
        "# 2nd parameter is the axis we want to concatenate.\n",
        "# Since we want to concatenate vertically we use 1. For Horizontal concatenation we use 0."
      ],
      "execution_count": 14,
      "outputs": [
        {
          "output_type": "stream",
          "text": [
            "[[432.38 431.23]\n",
            " [457.23 460.01]\n",
            " [463.14 461.14]\n",
            " ...\n",
            " [469.52 473.26]\n",
            " [442.13 438.  ]\n",
            " [458.64 463.28]]\n"
          ],
          "name": "stdout"
        }
      ]
    }
  ]
}