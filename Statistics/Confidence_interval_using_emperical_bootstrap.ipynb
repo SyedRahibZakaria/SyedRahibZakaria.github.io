{
  "nbformat": 4,
  "nbformat_minor": 0,
  "metadata": {
    "colab": {
      "name": "Confidence interval using emperical bootstrap.ipynb",
      "provenance": []
    },
    "kernelspec": {
      "name": "python3",
      "display_name": "Python 3"
    }
  },
  "cells": [
    {
      "cell_type": "code",
      "metadata": {
        "id": "DeLWlzZWLuuz",
        "colab_type": "code",
        "colab": {
          "base_uri": "https://localhost:8080/",
          "height": 284
        },
        "outputId": "77da0e05-f725-434d-e72d-a808b8c330f4"
      },
      "source": [
        "# Importing Libraries\n",
        "import numpy\n",
        "from sklearn.utils import resample\n",
        "from matplotlib import pyplot\n",
        "\n",
        "# Sample\n",
        "x = numpy.array([165, 172, 158, 182, 178, 173, 150, 184, 159, 177])\n",
        "\n",
        "# Bootstrap config\n",
        "n_iterations = 1000  # Number of samples we want to generate\n",
        "n_size = int(len(x)) # Number of values in each sample\n",
        "\n",
        "# Generate 1000 bootstrap samples and compute median of each sample\n",
        "medians = list()\n",
        "for i in range(n_iterations):\n",
        "  s = resample(x, n_samples=n_size)\n",
        "  m = numpy.median(s)\n",
        "  medians.append(m)\n",
        "\n",
        "# Plotting Histogram of medians\n",
        "pyplot.hist(medians)\n",
        "pyplot.show()\n",
        "\n",
        "# Confidence Intervals\n",
        "n = 0.95\n",
        "p = ((1.0-n)/2.0) * 100\n",
        "lower = numpy.percentile(medians, p)\n",
        "\n",
        "p = (n+((1.0-n)/2.0)) * 100\n",
        "upper = numpy.percentile(medians, p)\n",
        "print('%.1f percent confidence interval %.1f and %.1f' % (n*100, lower, upper))"
      ],
      "execution_count": 1,
      "outputs": [
        {
          "output_type": "display_data",
          "data": {
            "image/png": "[encoded data removed]",
            "text/plain": [
              "<Figure size 432x288 with 1 Axes>"
            ]
          },
          "metadata": {
            "tags": [],
            "needs_background": "light"
          }
        },
        {
          "output_type": "stream",
          "text": [
            "95.0 percent confidence interval 159.0 and 179.5\n"
          ],
          "name": "stdout"
        }
      ]
    },
    {
      "cell_type": "markdown",
      "metadata": {
        "id": "1IX5TdLaPrH4",
        "colab_type": "text"
      },
      "source": [
        "Notes:\n",
        "\n",
        "1. If number of values in the original sample \"x\" increases, the interval will be narrower."
      ]
    }
  ]
}